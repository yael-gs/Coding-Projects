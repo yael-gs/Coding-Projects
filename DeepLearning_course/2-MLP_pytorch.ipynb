{
 "cells": [
  {
   "cell_type": "markdown",
   "metadata": {
    "id": "9KFU-_ZrsZFR"
   },
   "source": [
    "# Multi-Layer Perceptron for binary-classification / in pytorch"
   ]
  },
  {
   "cell_type": "markdown",
   "metadata": {
    "id": "4-0LCM7sseew"
   },
   "source": [
    "## Objective:\n",
    "\n",
    "The objective of this lab is to develop a two hidden layers MLP to perform **binary classification**.\n",
    "\n",
    "We will use a MLP with 2 hidden layer with $n_{h1}=20$ and $n_{h2}=10$ hidden units and ```relu``` activation functions.\n",
    "You will perform 10.000 iterations (epochs) of SGD to find the parameters."
   ]
  },
  {
   "cell_type": "markdown",
   "metadata": {
    "id": "rhcaeREyshiA"
   },
   "source": [
    "### Data normalization\n",
    "\n",
    "You should normalize the data to zero mean and unit standard deviation"
   ]
  },
  {
   "cell_type": "markdown",
   "metadata": {
    "id": "W889TJY0sjrw"
   },
   "source": [
    "### Model\n",
    "\n",
    "There are various ways to write NN model in pytorch.\n",
    "\n",
    "We will write three different implementations:\n",
    "- **Model A**: manually defining the parameters (W1,b1,W2,b2,W3,b3), writing the forward equations, writting the loss equation, calling the .backward() and manually updating the weights using W1.grad.\n",
    "- **Model B**: using the Sequential class of pytorch\n",
    "- **Model C**: using a custom torch.nn.Module class"
   ]
  },
  {
   "cell_type": "markdown",
   "metadata": {
    "id": "_Qc8jENGsmR5"
   },
   "source": [
    "### Loss\n",
    "\n",
    "Since we are dealing with a binary classification problem, we will use a Binary Cross Entropy loss"
   ]
  },
  {
   "cell_type": "markdown",
   "metadata": {
    "id": "PbkGTDaRso25"
   },
   "source": [
    "### Parameters update/ Optimization\n",
    "\n",
    "For updating the parameters, we will use as optimizer a simple SGD algorithm with a learning rate of 0.1.\n",
    "\n",
    "Reminder : The optimizer is applied to a set of parameters.\n",
    "\n",
    "Once the gradients have been computed (after the backpropagation has been performed), we perform one step of optimization (either by hand or with optimizer.step())."
   ]
  },
  {
   "cell_type": "markdown",
   "metadata": {
    "id": "6qzL47Ntss3p"
   },
   "source": [
    "### Backward propagation\n",
    "\n",
    "Backpropagation is automatically performed in pytorch using the ```autograd``` package.  \n",
    "First, reset the gradients of all parameters then perform the backpropagation"
   ]
  },
  {
   "cell_type": "markdown",
   "metadata": {
    "id": "k4fnzJJDo60Y"
   },
   "source": [
    "### Documentations:\n",
    "\n",
    "- Introduction to pytorch\n",
    "\n",
    "    - https://perso.telecom-paristech.fr/gpeeters/video/pytorch.mp4\n",
    "    - https://perso.telecom-paristech.fr/gpeeters/doc/pytorch/#1\n",
    "\n",
    "- Specific pytorch packages\n",
    "\n",
    "    - NN: https://pytorch.org/docs/stable/nn.html\n",
    "    - Autograd: https://pytorch.org/docs/stable/autograd.html\n",
    "    - Optim: https://pytorch.org/docs/stable/optim.html\n"
   ]
  },
  {
   "cell_type": "markdown",
   "metadata": {
    "id": "tuvU8y2Lo60Z"
   },
   "source": [
    "## Load the python packages"
   ]
  },
  {
   "cell_type": "code",
   "execution_count": 8,
   "metadata": {
    "executionInfo": {
     "elapsed": 274,
     "status": "ok",
     "timestamp": 1726754926818,
     "user": {
      "displayName": "Yaël -",
      "userId": "00491070160584580396"
     },
     "user_tz": -120
    },
    "id": "I1VTuwVio60a"
   },
   "outputs": [
    {
     "ename": "ModuleNotFoundError",
     "evalue": "No module named 'torch'",
     "output_type": "error",
     "traceback": [
      "\u001b[1;31m---------------------------------------------------------------------------\u001b[0m",
      "\u001b[1;31mModuleNotFoundError\u001b[0m                       Traceback (most recent call last)",
      "Cell \u001b[1;32mIn[8], line 1\u001b[0m\n\u001b[1;32m----> 1\u001b[0m \u001b[38;5;28;01mimport\u001b[39;00m \u001b[38;5;21;01mtorch\u001b[39;00m\n\u001b[0;32m      2\u001b[0m \u001b[38;5;28;01mimport\u001b[39;00m \u001b[38;5;21;01mtorch\u001b[39;00m\u001b[38;5;21;01m.\u001b[39;00m\u001b[38;5;21;01mnn\u001b[39;00m \u001b[38;5;28;01mas\u001b[39;00m \u001b[38;5;21;01mnn\u001b[39;00m\n\u001b[0;32m      3\u001b[0m \u001b[38;5;28;01mimport\u001b[39;00m \u001b[38;5;21;01mtorch\u001b[39;00m\u001b[38;5;21;01m.\u001b[39;00m\u001b[38;5;21;01mnn\u001b[39;00m\u001b[38;5;21;01m.\u001b[39;00m\u001b[38;5;21;01mfunctional\u001b[39;00m \u001b[38;5;28;01mas\u001b[39;00m \u001b[38;5;21;01mF\u001b[39;00m\n",
      "\u001b[1;31mModuleNotFoundError\u001b[0m: No module named 'torch'"
     ]
    }
   ],
   "source": [
    "import torch\n",
    "import torch.nn as nn\n",
    "import torch.nn.functional as F\n",
    "import torch.optim as optim\n",
    "from torch.autograd import Variable\n",
    "\n",
    "import numpy as np\n",
    "import matplotlib.pyplot as plt\n"
   ]
  },
  {
   "cell_type": "markdown",
   "metadata": {
    "id": "Bsb-phrJo60g"
   },
   "source": [
    "## Dataset\n",
    "\n",
    "We take the usual circle dataset from sklearn."
   ]
  },
  {
   "cell_type": "code",
   "execution_count": null,
   "metadata": {
    "executionInfo": {
     "elapsed": 18,
     "status": "ok",
     "timestamp": 1726754927090,
     "user": {
      "displayName": "Yaël -",
      "userId": "00491070160584580396"
     },
     "user_tz": -120
    },
    "id": "Otam7ukPo60g"
   },
   "outputs": [],
   "source": [
    "from sklearn import datasets\n",
    "X_np, y_np = datasets.make_circles(n_samples=1000, noise=0.2, factor=0.5)"
   ]
  },
  {
   "cell_type": "markdown",
   "metadata": {
    "id": "-5idAV4Co60i"
   },
   "source": [
    "We convert the ```numpy tensors``` to ```torch tensors```.\n",
    "The difference being that the latters allows to do automatic gradient differentiation (back-propagation)."
   ]
  },
  {
   "cell_type": "code",
   "execution_count": null,
   "metadata": {
    "executionInfo": {
     "elapsed": 17,
     "status": "ok",
     "timestamp": 1726754927090,
     "user": {
      "displayName": "Yaël -",
      "userId": "00491070160584580396"
     },
     "user_tz": -120
    },
    "id": "rPxnzVSDo60j"
   },
   "outputs": [],
   "source": [
    "X = torch.from_numpy(X_np).float()\n",
    "y = torch.from_numpy(y_np).float()\n",
    "y = y.view(len(y), 1)"
   ]
  },
  {
   "cell_type": "code",
   "execution_count": null,
   "metadata": {
    "colab": {
     "base_uri": "https://localhost:8080/"
    },
    "executionInfo": {
     "elapsed": 17,
     "status": "ok",
     "timestamp": 1726754927091,
     "user": {
      "displayName": "Yaël -",
      "userId": "00491070160584580396"
     },
     "user_tz": -120
    },
    "id": "YHgd8JYPo60l",
    "outputId": "1a4d0a82-1d81-47ce-bf9f-ff0f39839326"
   },
   "outputs": [
    {
     "name": "stdout",
     "output_type": "stream",
     "text": [
      "torch.Size([1000, 2])\n",
      "torch.Size([1000, 1])\n",
      "tensor([-0.0133, -0.0021])\n",
      "tensor([0.6044, 0.5994])\n"
     ]
    }
   ],
   "source": [
    "print(X.size())\n",
    "print(y.size())\n",
    "print(X.mean(dim=0))\n",
    "print(X.std(dim=0))"
   ]
  },
  {
   "cell_type": "markdown",
   "metadata": {
    "id": "Unp-3kjjo60n"
   },
   "source": [
    "## Normalization"
   ]
  },
  {
   "cell_type": "code",
   "execution_count": null,
   "metadata": {
    "colab": {
     "base_uri": "https://localhost:8080/"
    },
    "executionInfo": {
     "elapsed": 12,
     "status": "ok",
     "timestamp": 1726754927091,
     "user": {
      "displayName": "Yaël -",
      "userId": "00491070160584580396"
     },
     "user_tz": -120
    },
    "id": "6rIwFaauo60n",
    "outputId": "a98ae916-5af7-43ab-c6f1-ef1ecc47c2bb"
   },
   "outputs": [
    {
     "name": "stdout",
     "output_type": "stream",
     "text": [
      "tensor([-1.3351e-08,  1.5497e-08])\n",
      "tensor([1., 1.])\n"
     ]
    }
   ],
   "source": [
    "X -= X.mean(dim=0)\n",
    "X /= X.std(dim=0)\n",
    "print(X.mean(dim=0))\n",
    "print(X.std(dim=0))"
   ]
  },
  {
   "cell_type": "markdown",
   "metadata": {
    "id": "Rc3VgVWOo60p"
   },
   "source": [
    "## Definition of the hyper-parameters"
   ]
  },
  {
   "cell_type": "code",
   "execution_count": null,
   "metadata": {
    "executionInfo": {
     "elapsed": 257,
     "status": "ok",
     "timestamp": 1726754927341,
     "user": {
      "displayName": "Yaël -",
      "userId": "00491070160584580396"
     },
     "user_tz": -120
    },
    "id": "OrBQMqCJo60r"
   },
   "outputs": [
    {
     "ename": "NameError",
     "evalue": "name 'X' is not defined",
     "output_type": "error",
     "traceback": [
      "\u001b[1;31m---------------------------------------------------------------------------\u001b[0m",
      "\u001b[1;31mNameError\u001b[0m                                 Traceback (most recent call last)",
      "Cell \u001b[1;32mIn[2], line 1\u001b[0m\n\u001b[1;32m----> 1\u001b[0m n_in \u001b[38;5;241m=\u001b[39m X\u001b[38;5;241m.\u001b[39mshape[\u001b[38;5;241m1\u001b[39m]\n\u001b[0;32m      2\u001b[0m n_h1 \u001b[38;5;241m=\u001b[39m \u001b[38;5;241m20\u001b[39m \u001b[38;5;66;03m#first layer is 20 units\u001b[39;00m\n\u001b[0;32m      3\u001b[0m n_h2 \u001b[38;5;241m=\u001b[39m \u001b[38;5;241m10\u001b[39m \u001b[38;5;66;03m#second layer is 10 units\u001b[39;00m\n",
      "\u001b[1;31mNameError\u001b[0m: name 'X' is not defined"
     ]
    }
   ],
   "source": [
    "n_in = X.shape[1]\n",
    "n_h1 = 20 #first layer is 20 units\n",
    "n_h2 = 10 #second layer is 10 units\n",
    "n_out = 1 #binary classifation\n",
    "\n",
    "nb_epoch = 10000\n",
    "alpha = 0.1"
   ]
  },
  {
   "cell_type": "markdown",
   "metadata": {
    "id": "CIzjntgZo60t"
   },
   "source": [
    "## Model 1 (writing the network equations)\n",
    "\n",
    "\n"
   ]
  },
  {
   "cell_type": "markdown",
   "metadata": {
    "id": "4pllj-HFth04"
   },
   "source": [
    "### Parameter initialization\n",
    "\n",
    "**Using torch.Tensors**.\n",
    "we define the variables and write the equations of the network ourself.\n",
    "However we will use ```torch.Tensors``` instead of ```numpy.Array```.\n",
    "\n",
    "***Why ?*** because torch tensors allow us to **automatically** get the gradient.  \n",
    "Simply using ```loss.backward()``` to launch the backpropagation from ```loss```.  \n",
    "Then, for all tensors we've created and for which we declared ```requires_grad=True```, we will get the gradient of ```loss```with respect to this variable in the field ```.grad```.\n",
    "\n",
    "Example: ```W1 = torch.Tensor(..., requires_grad=True)``` ... ```loss.backward``` will have the gradient $\\frac{d Loss}{d W1}$in ```W1.grad```.\n",
    "\n",
    "**Random initialization**. The weight $W_1, W_2, \\cdots$ matrices **should be initialized randomly with small values**; while the bias vectors $b_1, b_2, \\cdots$can be initialized to zero."
   ]
  },
  {
   "cell_type": "code",
   "execution_count": null,
   "metadata": {
    "executionInfo": {
     "elapsed": 10,
     "status": "ok",
     "timestamp": 1726754927342,
     "user": {
      "displayName": "Yaël -",
      "userId": "00491070160584580396"
     },
     "user_tz": -120
    },
    "id": "fGEMW1P1tllj"
   },
   "outputs": [],
   "source": [
    "# --- We first initialize the variables of the network (W1, b1, ...)\n",
    "\n",
    "W1 = torch.rand(n_in, n_h1)/100\n",
    "W1.requires_grad = True\n",
    "b1 = torch.zeros(n_h1).T\n",
    "b1.requires_grad = True\n",
    "\n",
    "W2 = torch.rand(n_h1, n_h2)/100\n",
    "W2.requires_grad = True\n",
    "b2 = torch.zeros(n_h2).T\n",
    "b2.requires_grad = True\n",
    "\n",
    "W3 = torch.rand(n_h2, n_out)/100\n",
    "W3.requires_grad = True\n",
    "b3 = torch.zeros(n_out).T\n",
    "b3.requires_grad = True\n"
   ]
  },
  {
   "cell_type": "markdown",
   "metadata": {
    "id": "GU472VdktqoP"
   },
   "source": [
    "### Define the model\n",
    "\n",
    "We write a function to perform the forward pass (using pytorch operators, not numpy operators) taking X as input and returing hat_y as output."
   ]
  },
  {
   "cell_type": "code",
   "execution_count": null,
   "metadata": {
    "executionInfo": {
     "elapsed": 9,
     "status": "ok",
     "timestamp": 1726754927342,
     "user": {
      "displayName": "Yaël -",
      "userId": "00491070160584580396"
     },
     "user_tz": -120
    },
    "id": "1BWc4OoZts_l"
   },
   "outputs": [],
   "source": [
    "def model(X):\n",
    "    A0 = X\n",
    "    Z1 = A0 @ W1 + b1\n",
    "    A1 = torch.relu(Z1)\n",
    "    Z2 = A1 @ W2 + b2\n",
    "    A2 = torch.relu(Z2)\n",
    "    Z3 = A2 @ W3 + b3\n",
    "    A3 = torch.sigmoid(Z3)\n",
    "    hat_y = A3\n",
    "    \n",
    "    return hat_y"
   ]
  },
  {
   "cell_type": "markdown",
   "metadata": {
    "id": "-t--05ydty4g"
   },
   "source": [
    "### Main training loop\n",
    "\n",
    "We iterate over epochs (we do not perform split into mini-batch here).\n",
    "For each iteration, we\n",
    "- a) perform the forward pass,\n",
    "- b) compute the loss/cost,\n",
    "- c) compute the backward pass to get the gradients of the cost w.r.t. the parameters W1, b1, ...\n",
    "- d) perform the update of the parameters W1, b1, ...\n",
    "\n",
    "***Important: pytorch restriction***  \n",
    "When we update the parameters (W1, b1, ...), we muist do that ``inplace`` (W1 -= ??? and not W1 = W1 - ???).  \n",
    "**Why?** Because otherwise pytorch will overide W1 by its value, and hence **it will eras its .grad file** used to backpropagate.\n"
   ]
  },
  {
   "cell_type": "code",
   "execution_count": null,
   "metadata": {
    "colab": {
     "base_uri": "https://localhost:8080/"
    },
    "executionInfo": {
     "elapsed": 10656,
     "status": "ok",
     "timestamp": 1726754937989,
     "user": {
      "displayName": "Yaël -",
      "userId": "00491070160584580396"
     },
     "user_tz": -120
    },
    "id": "HB65rqW4o60u",
    "outputId": "7d3e2ecb-2a61-4268-c56b-6a918321f24e"
   },
   "outputs": [
    {
     "ename": "NameError",
     "evalue": "name 'nb_epoch' is not defined",
     "output_type": "error",
     "traceback": [
      "\u001b[1;31m---------------------------------------------------------------------------\u001b[0m",
      "\u001b[1;31mNameError\u001b[0m                                 Traceback (most recent call last)",
      "Cell \u001b[1;32mIn[4], line 1\u001b[0m\n\u001b[1;32m----> 1\u001b[0m \u001b[38;5;28;01mfor\u001b[39;00m num_epoch \u001b[38;5;129;01min\u001b[39;00m \u001b[38;5;28mrange\u001b[39m(\u001b[38;5;241m0\u001b[39m, nb_epoch):\n\u001b[0;32m      2\u001b[0m \n\u001b[0;32m      3\u001b[0m     \u001b[38;5;66;03m# --- a) Forward pass: X (n_in, m), hat_y (n_out, m)\u001b[39;00m\n\u001b[0;32m      4\u001b[0m     hat_y \u001b[38;5;241m=\u001b[39m model(X)\n\u001b[0;32m      6\u001b[0m     \u001b[38;5;66;03m# -- We clip hat_y in order to avoid log(0) in the loss\u001b[39;00m\n",
      "\u001b[1;31mNameError\u001b[0m: name 'nb_epoch' is not defined"
     ]
    }
   ],
   "source": [
    "for num_epoch in range(0, nb_epoch):\n",
    "\n",
    "    # --- a) Forward pass: X (n_in, m), hat_y (n_out, m)\n",
    "    hat_y = model(X)\n",
    "\n",
    "    # -- We clip hat_y in order to avoid log(0) in the loss\n",
    "    eps = 1e-10\n",
    "    hat_y = torch.clamp(hat_y, eps, 1-eps)\n",
    "\n",
    "    # --- b) Computing the loss/cost\n",
    "    loss = - ( y*torch.log(hat_y) + (1-y)*torch.log(1-hat_y)) ##binary cross entropy\n",
    "    cost = torch.sum(loss)/X.size()[0]\n",
    "\n",
    "\n",
    "    if num_epoch % 500 == 0:\n",
    "        print('epoch {}, loss {}'.format(num_epoch, cost))\n",
    "\n",
    "    # --- c) Backward pass\n",
    "    cost.backward()\n",
    "\n",
    "    # --- \"with torch.no_grad()\" temporarily set all the requires_grad flag to false\n",
    "    with torch.no_grad():\n",
    "        # --- d) perform the update of the parameters W1, b1, ...\n",
    "        # --- the gradients dLoss/dW1 is stored in W1.grad, dLoss/db1 is stored in b1.grad, ...\n",
    "        W1 -= W1.grad * alpha\n",
    "        b1 -= b1.grad * alpha\n",
    "        W2 -= W2.grad * alpha\n",
    "        b2 -= b2.grad * alpha\n",
    "        W3 -= W3.grad * alpha\n",
    "        b3 -= b3.grad * alpha\n",
    "\n",
    "\n",
    "    # --- We need to set to zero all gradients (otherwise they are cumulated)\n",
    "    W1.grad.zero_()\n",
    "    b1.grad.zero_()\n",
    "    W2.grad.zero_()\n",
    "    b2.grad.zero_()\n",
    "    W3.grad.zero_()\n",
    "    b3.grad.zero_()"
   ]
  },
  {
   "cell_type": "markdown",
   "metadata": {
    "id": "lxgA4DXVo60w"
   },
   "source": [
    "## Model 2 (using nn.sequential)\n",
    "\n",
    "Here, we use the package ```torch.nn``` which comes with a predefined set of layers. The syntax is close to the one of ```keras```(```Sequential```), but differs in the fact that layers are splitted into the matrix multiplication followed by a non-linear activations (```keras```merge both using the ```Dense```layers).\n",
    "\n",
    "The model created will have all its parameters accessible as a dictionary and can be accessed using ```model.parameters()```. It is therefore a convenient way to write simple sequential networks."
   ]
  },
  {
   "cell_type": "code",
   "execution_count": null,
   "metadata": {
    "executionInfo": {
     "elapsed": 256,
     "status": "ok",
     "timestamp": 1726755335786,
     "user": {
      "displayName": "Yaël -",
      "userId": "00491070160584580396"
     },
     "user_tz": -120
    },
    "id": "elGQpQzjo60x"
   },
   "outputs": [
    {
     "ename": "NameError",
     "evalue": "name 'torch' is not defined",
     "output_type": "error",
     "traceback": [
      "\u001b[1;31m---------------------------------------------------------------------------\u001b[0m",
      "\u001b[1;31mNameError\u001b[0m                                 Traceback (most recent call last)",
      "Cell \u001b[1;32mIn[5], line 1\u001b[0m\n\u001b[1;32m----> 1\u001b[0m my_model \u001b[38;5;241m=\u001b[39m  torch\u001b[38;5;241m.\u001b[39mnn\u001b[38;5;241m.\u001b[39mSequential(\n\u001b[0;32m      2\u001b[0m     torch\u001b[38;5;241m.\u001b[39mnn\u001b[38;5;241m.\u001b[39mLinear(n_in, n_h1),\n\u001b[0;32m      3\u001b[0m     torch\u001b[38;5;241m.\u001b[39mnn\u001b[38;5;241m.\u001b[39mReLU(),\n\u001b[0;32m      4\u001b[0m     torch\u001b[38;5;241m.\u001b[39mnn\u001b[38;5;241m.\u001b[39mLinear(n_h1,n_h2),\n\u001b[0;32m      5\u001b[0m     torch\u001b[38;5;241m.\u001b[39mnn\u001b[38;5;241m.\u001b[39mReLU(),\n\u001b[0;32m      6\u001b[0m     torch\u001b[38;5;241m.\u001b[39mnn\u001b[38;5;241m.\u001b[39mLinear(n_h2, n_out),\n\u001b[0;32m      7\u001b[0m     torch\u001b[38;5;241m.\u001b[39mnn\u001b[38;5;241m.\u001b[39mSigmoid(),\n\u001b[0;32m      8\u001b[0m     )\n",
      "\u001b[1;31mNameError\u001b[0m: name 'torch' is not defined"
     ]
    }
   ],
   "source": [
    "my_model =  torch.nn.Sequential(\n",
    "    torch.nn.Linear(n_in, n_h1),\n",
    "    torch.nn.ReLU(),\n",
    "    torch.nn.Linear(n_h1,n_h2),\n",
    "    torch.nn.ReLU(),\n",
    "    torch.nn.Linear(n_h2, n_out),\n",
    "    torch.nn.Sigmoid(),\n",
    "    )"
   ]
  },
  {
   "cell_type": "markdown",
   "metadata": {
    "id": "ts4aVeIPo601"
   },
   "source": [
    "### Criterion and Optimization\n",
    "\n",
    "The code of Model 1 is self-contained, i.e. it already contains all necessary instruction to perform forward, loss, backward and parameter updates.\n",
    "\n",
    "When using ```nn.sequential``` (model 2) or a class definition of the network (model 3), we still need to define\n",
    "- what we will minimize (the loss to be minimized, i.e. Binary-Cross-Entropy). We can of course write the equation of it by hand but pytorch comes with a very large number of pre-build loss functions (within ```torch.nn```)\n",
    "- how we will minimize the loss, i.e. what parameter update algorithms we will use (SGD, momentum). We can of course write the equation of it by hand but pytorch comes with a very large number of pre-build loss functions (within ```torch.nn```)"
   ]
  },
  {
   "cell_type": "code",
   "execution_count": null,
   "metadata": {
    "executionInfo": {
     "elapsed": 247,
     "status": "ok",
     "timestamp": 1726755354757,
     "user": {
      "displayName": "Yaël -",
      "userId": "00491070160584580396"
     },
     "user_tz": -120
    },
    "id": "xs63V-Wgo602"
   },
   "outputs": [],
   "source": [
    "criterion = torch.nn.BCELoss()\n",
    "optimizer = torch.optim.SGD(my_model.parameters(),lr=0.1)"
   ]
  },
  {
   "cell_type": "markdown",
   "metadata": {
    "id": "89ysZn6rw17u"
   },
   "source": [
    "### Main training loop\n",
    "\n",
    "Having defined the network, the citerion to be minimized and the optimizer, we then perform a loop over epochs (iterations); at each step we\n",
    "- compute the forward pass by passing the data to the model: ```haty = model(x)```\n",
    "- compute the the loss (the criterion)\n",
    "- putting at zero the gradients of all the parameters of the network (this is important since, by default, pytorch accumulate the gradients over time)\n",
    "- computing the backpropagation (using as before ```.backward()```)\n",
    "- performing one step of optimization (using ```.step()```)"
   ]
  },
  {
   "cell_type": "code",
   "execution_count": null,
   "metadata": {
    "colab": {
     "base_uri": "https://localhost:8080/",
     "height": 787
    },
    "executionInfo": {
     "elapsed": 10762,
     "status": "ok",
     "timestamp": 1726755367354,
     "user": {
      "displayName": "Yaël -",
      "userId": "00491070160584580396"
     },
     "user_tz": -120
    },
    "id": "JROT567kw17u",
    "outputId": "66a2ddf9-9ded-4119-b483-d283ab5fccc6"
   },
   "outputs": [
    {
     "ename": "NameError",
     "evalue": "name 'nb_epoch' is not defined",
     "output_type": "error",
     "traceback": [
      "\u001b[1;31m---------------------------------------------------------------------------\u001b[0m",
      "\u001b[1;31mNameError\u001b[0m                                 Traceback (most recent call last)",
      "Cell \u001b[1;32mIn[6], line 2\u001b[0m\n\u001b[0;32m      1\u001b[0m loss_l \u001b[38;5;241m=\u001b[39m []\n\u001b[1;32m----> 2\u001b[0m \u001b[38;5;28;01mfor\u001b[39;00m num_epoch \u001b[38;5;129;01min\u001b[39;00m \u001b[38;5;28mrange\u001b[39m(nb_epoch):\n\u001b[0;32m      4\u001b[0m     hat_y \u001b[38;5;241m=\u001b[39m my_model(X) \u001b[38;5;66;03m# Forward pass: Compute predicted y by passing  x to the model\u001b[39;00m\n\u001b[0;32m      5\u001b[0m     loss \u001b[38;5;241m=\u001b[39m criterion(hat_y,y) \u001b[38;5;66;03m# Compute loss\u001b[39;00m\n",
      "\u001b[1;31mNameError\u001b[0m: name 'nb_epoch' is not defined"
     ]
    }
   ],
   "source": [
    "loss_l = []\n",
    "for num_epoch in range(nb_epoch):\n",
    "\n",
    "    hat_y = my_model(X) # Forward pass: Compute predicted y by passing  x to the model\n",
    "    loss = criterion(hat_y,y) # Compute loss\n",
    "\n",
    "    # re-init the gradients (otherwise they are cumulated)\n",
    "    optimizer.zero_grad()\n",
    "\n",
    "    # perform back-propagation (which will update the gradients)\n",
    "    loss.backward()\n",
    "\n",
    "    # update the weights\n",
    "    optimizer.step()\n",
    "\n",
    "    loss_l.append(loss.item())\n",
    "\n",
    "    if num_epoch % 500 == 0:\n",
    "        print('epoch {}, loss {}'.format(num_epoch, loss.item()))\n",
    "\n",
    "# ----------------\n",
    "plt.plot(loss_l)"
   ]
  },
  {
   "cell_type": "markdown",
   "metadata": {
    "id": "4twpnbEAo60z"
   },
   "source": [
    "## Model 3 (using a class definition)\n",
    "\n",
    "Here, you will write the network using the recommended pytroch way; i.e. by defining a class.\n",
    "This class inherit from the main class ```torch.nn.Module```.\n",
    "You only need to write the ```__init__``` method and the ```forward``` method.\n",
    "\n",
    "In object programming, the ```__init__``` method defines the attributes of your class. Since the attributes of your  network are the parameters to be trained (weights and biases), you should declare in the ```__init``` all the layers that involve parameters to be trained (mostly the ```Linear```layers which perform the matrix multiplication).\n",
    "\n",
    "The ```forward``` method contains the code of the forward pass itself. It can of course call attributes defined in the ```__init___``` method. It is the method used when calling ```model(x)```.\n",
    "\n",
    "As before, the model created will have all its parameters accessible as a dictionary and can be accessed using ```model.parameters()```.\n",
    "\n",
    "Classes are convenient way to write more complex network than what you can do with ```nn.sequential```. Note that you can actually include a ```nn.sequential``` in your class."
   ]
  },
  {
   "cell_type": "code",
   "execution_count": null,
   "metadata": {
    "executionInfo": {
     "elapsed": 5,
     "status": "ok",
     "timestamp": 1726756539492,
     "user": {
      "displayName": "Yaël -",
      "userId": "00491070160584580396"
     },
     "user_tz": -120
    },
    "id": "ZNsNkq9Do60z"
   },
   "outputs": [],
   "source": [
    "class Net(torch.nn.Module):\n",
    "    def __init__(self, n_in, n_h1, n_h2, n_out):\n",
    "        super(Net, self).__init__()\n",
    "\n",
    "        if student:\n",
    "            # --- START CODE HERE (06)\n",
    "            self.fc1 = nn.Linear(n_in, n_h1) # hidden layer 1\n",
    "            self.fc2 = nn.Linear(n_h1, n_h2) # hidden layer 2\n",
    "            self.fc3 = nn.Linear(n_h2, n_out)  # output layer\n",
    "            # --- END CODE HERE\n",
    "\n",
    "    def forward(self, X):\n",
    "\n",
    "        if student:\n",
    "            # --- START CODE HERE (07)\n",
    "            A0 = X\n",
    "            A1 = torch.relu(self.fc1(A0))   # activation function for hidden layer 1\n",
    "            A2 = torch.relu(self.fc2(A1))   # activation function for hidden layer 2\n",
    "            A3 = torch.sigmoid(self.fc3(A2))   # activation function for output layer\n",
    "            # --- END CODE HERE\n",
    "\n",
    "        return A3\n",
    "\n",
    "# --- START CODE HERE\n",
    "my_model = Net(n_in, n_h1, n_h2, n_out)\n",
    "# --- END CODE HERE"
   ]
  },
  {
   "cell_type": "markdown",
   "metadata": {
    "id": "VfOoKPMtwfLI"
   },
   "source": [
    "### Criterion and Optimization (same as for model 2 -> copy and paste your code)"
   ]
  },
  {
   "cell_type": "code",
   "execution_count": null,
   "metadata": {
    "executionInfo": {
     "elapsed": 3,
     "status": "ok",
     "timestamp": 1726756556676,
     "user": {
      "displayName": "Yaël -",
      "userId": "00491070160584580396"
     },
     "user_tz": -120
    },
    "id": "e-DC96kOwfLJ"
   },
   "outputs": [],
   "source": [
    "if student:\n",
    "    # --- START CODE HERE (08)\n",
    "    criterion = torch.nn.BCELoss()\n",
    "    optimizer = torch.optim.SGD(my_model.parameters(),lr=0.1)\n",
    "    # --- END CODE HERE\n"
   ]
  },
  {
   "cell_type": "markdown",
   "metadata": {
    "id": "XamuBM_ho604"
   },
   "source": [
    "### Main training loop (same as for model 2 -> copy and paste your code)\n"
   ]
  },
  {
   "cell_type": "code",
   "execution_count": null,
   "metadata": {
    "colab": {
     "base_uri": "https://localhost:8080/",
     "height": 787
    },
    "executionInfo": {
     "elapsed": 10295,
     "status": "ok",
     "timestamp": 1726756568678,
     "user": {
      "displayName": "Yaël -",
      "userId": "00491070160584580396"
     },
     "user_tz": -120
    },
    "id": "rKfrD8V3o605",
    "outputId": "3404270f-491e-4bb3-e7cf-7dc8ed261997"
   },
   "outputs": [
    {
     "name": "stdout",
     "output_type": "stream",
     "text": [
      "epoch 0, loss 0.6970490217208862\n",
      "epoch 500, loss 0.30917608737945557\n",
      "epoch 1000, loss 0.2692456841468811\n",
      "epoch 1500, loss 0.26258087158203125\n",
      "epoch 2000, loss 0.2603543996810913\n",
      "epoch 2500, loss 0.2594291567802429\n",
      "epoch 3000, loss 0.25883516669273376\n",
      "epoch 3500, loss 0.2583462595939636\n",
      "epoch 4000, loss 0.25795912742614746\n",
      "epoch 4500, loss 0.25772109627723694\n",
      "epoch 5000, loss 0.25753268599510193\n",
      "epoch 5500, loss 0.2573728859424591\n",
      "epoch 6000, loss 0.2572425901889801\n",
      "epoch 6500, loss 0.25711724162101746\n",
      "epoch 7000, loss 0.256918340921402\n",
      "epoch 7500, loss 0.2567879557609558\n",
      "epoch 8000, loss 0.25659507513046265\n",
      "epoch 8500, loss 0.2563868463039398\n",
      "epoch 9000, loss 0.25623080134391785\n",
      "epoch 9500, loss 0.25608643889427185\n"
     ]
    },
    {
     "data": {
      "image/png": "[encoded data removed]",
      "text/plain": [
       "<Figure size 640x480 with 1 Axes>"
      ]
     },
     "metadata": {},
     "output_type": "display_data"
    }
   ],
   "source": [
    "loss_l = []\n",
    "for num_epoch in range(nb_epoch):\n",
    "\n",
    "    if student:\n",
    "        # --- START CODE HERE (09)\n",
    "        hat_y = my_model(X) # Forward pass: Compute predicted y by passing  x to the model\n",
    "        loss = criterion(hat_y,y) # Compute loss\n",
    "\n",
    "        # Zero gradients, perform a backward pass, and update the weights.\n",
    "\n",
    "        # re-init the gradients (otherwise they are cumulated)\n",
    "        optimizer.zero_grad()\n",
    "\n",
    "        # perform back-propagation\n",
    "        loss.backward()\n",
    "\n",
    "        # update the weights\n",
    "        optimizer.step()\n",
    "        # --- END CODE HERE\n",
    "\n",
    "    loss_l.append(loss.item())\n",
    "\n",
    "    if num_epoch % 500 == 0:\n",
    "        print('epoch {}, loss {}'.format(num_epoch, loss.item()))\n",
    "\n",
    "# ----------------\n",
    "plt.plot(loss_l);"
   ]
  }
 ],
 "metadata": {
  "colab": {
   "provenance": [
    {
     "file_id": "1NyxJ60WuIfQDg8TXGCOoFddmYD2b6uDQ",
     "timestamp": 1726747464806
    }
   ]
  },
  "kernelspec": {
   "display_name": "base",
   "language": "python",
   "name": "python3"
  },
  "language_info": {
   "codemirror_mode": {
    "name": "ipython",
    "version": 3
   },
   "file_extension": ".py",
   "mimetype": "text/x-python",
   "name": "python",
   "nbconvert_exporter": "python",
   "pygments_lexer": "ipython3",
   "version": "3.12.7"
  },
  "toc": {
   "base_numbering": 1,
   "nav_menu": {},
   "number_sections": true,
   "sideBar": true,
   "skip_h1_title": false,
   "title_cell": "Table of Contents",
   "title_sidebar": "Contents",
   "toc_cell": false,
   "toc_position": {},
   "toc_section_display": true,
   "toc_window_display": true
  }
 },
 "nbformat": 4,
 "nbformat_minor": 0
}
