{
 "cells": [
  {
   "cell_type": "markdown",
   "metadata": {
    "id": "9KFU-_ZrsZFR"
   },
   "source": [
    "# Multi-Layer Perceptron for binary-classification / in pytorch"
   ]
  },
  {
   "cell_type": "markdown",
   "metadata": {
    "id": "4-0LCM7sseew"
   },
   "source": [
    "## Objective:\n",
    "\n",
    "The objective of this lab is to develop a two hidden layers MLP to perform **binary classification**.\n",
    "\n",
    "We will use a MLP with 2 hidden layer with $n_{h1}=20$ and $n_{h2}=10$ hidden units and ```relu``` activation functions.\n",
    "You will perform 10.000 iterations (epochs) of SGD to find the parameters."
   ]
  },
  {
   "cell_type": "markdown",
   "metadata": {
    "id": "rhcaeREyshiA"
   },
   "source": [
    "### Data normalization\n",
    "\n",
    "You should normalize the data to zero mean and unit standard deviation"
   ]
  },
  {
   "cell_type": "markdown",
   "metadata": {
    "id": "W889TJY0sjrw"
   },
   "source": [
    "### Model\n",
    "\n",
    "There are various ways to write NN model in pytorch.\n",
    "\n",
    "We will write three different implementations:\n",
    "- **Model A**: manually defining the parameters (W1,b1,W2,b2,W3,b3), writing the forward equations, writting the loss equation, calling the .backward() and manually updating the weights using W1.grad.\n",
    "- **Model B**: using the Sequential class of pytorch\n",
    "- **Model C**: using a custom torch.nn.Module class"
   ]
  },
  {
   "cell_type": "markdown",
   "metadata": {
    "id": "_Qc8jENGsmR5"
   },
   "source": [
    "### Loss\n",
    "\n",
    "Since we are dealing with a binary classification problem, we will use a Binary Cross Entropy loss"
   ]
  },
  {
   "cell_type": "markdown",
   "metadata": {
    "id": "PbkGTDaRso25"
   },
   "source": [
    "### Parameters update/ Optimization\n",
    "\n",
    "For updating the parameters, we will use as optimizer a simple SGD algorithm with a learning rate of 0.1.\n",
    "\n",
    "Reminder : The optimizer is applied to a set of parameters.\n",
    "\n",
    "Once the gradients have been computed (after the backpropagation has been performed), we perform one step of optimization (either by hand or with optimizer.step())."
   ]
  },
  {
   "cell_type": "markdown",
   "metadata": {
    "id": "6qzL47Ntss3p"
   },
   "source": [
    "### Backward propagation\n",
    "\n",
    "Backpropagation is automatically performed in pytorch using the ```autograd``` package.  \n",
    "First, reset the gradients of all parameters then perform the backpropagation"
   ]
  },
  {
   "cell_type": "markdown",
   "metadata": {
    "id": "k4fnzJJDo60Y"
   },
   "source": [
    "### Documentations:\n",
    "\n",
    "- Introduction to pytorch\n",
    "\n",
    "    - https://perso.telecom-paristech.fr/gpeeters/video/pytorch.mp4\n",
    "    - https://perso.telecom-paristech.fr/gpeeters/doc/pytorch/#1\n",
    "\n",
    "- Specific pytorch packages\n",
    "\n",
    "    - NN: https://pytorch.org/docs/stable/nn.html\n",
    "    - Autograd: https://pytorch.org/docs/stable/autograd.html\n",
    "    - Optim: https://pytorch.org/docs/stable/optim.html\n"
   ]
  },
  {
   "cell_type": "markdown",
   "metadata": {
    "id": "tuvU8y2Lo60Z"
   },
   "source": [
    "## Load the python packages"
   ]
  },
  {
   "cell_type": "code",
   "execution_count": 36,
   "metadata": {
    "executionInfo": {
     "elapsed": 274,
     "status": "ok",
     "timestamp": 1726754926818,
     "user": {
      "displayName": "Yaël -",
      "userId": "00491070160584580396"
     },
     "user_tz": -120
    },
    "id": "I1VTuwVio60a"
   },
   "outputs": [],
   "source": [
    "import torch\n",
    "import torch.nn as nn\n",
    "import torch.nn.functional as F\n",
    "import torch.optim as optim\n",
    "from torch.autograd import Variable\n",
    "\n",
    "import numpy as np\n",
    "import matplotlib.pyplot as plt\n"
   ]
  },
  {
   "cell_type": "markdown",
   "metadata": {
    "id": "Bsb-phrJo60g"
   },
   "source": [
    "## Dataset\n",
    "\n",
    "We take the usual circle dataset from sklearn."
   ]
  },
  {
   "cell_type": "code",
   "execution_count": 37,
   "metadata": {
    "executionInfo": {
     "elapsed": 18,
     "status": "ok",
     "timestamp": 1726754927090,
     "user": {
      "displayName": "Yaël -",
      "userId": "00491070160584580396"
     },
     "user_tz": -120
    },
    "id": "Otam7ukPo60g"
   },
   "outputs": [],
   "source": [
    "from sklearn import datasets\n",
    "X_np, y_np = datasets.make_circles(n_samples=1000, noise=0.2, factor=0.5)"
   ]
  },
  {
   "cell_type": "markdown",
   "metadata": {
    "id": "-5idAV4Co60i"
   },
   "source": [
    "We convert the ```numpy tensors``` to ```torch tensors```.\n",
    "The difference being that the latters allows to do automatic gradient differentiation (back-propagation)."
   ]
  },
  {
   "cell_type": "code",
   "execution_count": 38,
   "metadata": {
    "executionInfo": {
     "elapsed": 17,
     "status": "ok",
     "timestamp": 1726754927090,
     "user": {
      "displayName": "Yaël -",
      "userId": "00491070160584580396"
     },
     "user_tz": -120
    },
    "id": "rPxnzVSDo60j"
   },
   "outputs": [],
   "source": [
    "X = torch.from_numpy(X_np).float()\n",
    "y = torch.from_numpy(y_np).float()\n",
    "y = y.view(len(y), 1)"
   ]
  },
  {
   "cell_type": "code",
   "execution_count": 39,
   "metadata": {
    "colab": {
     "base_uri": "https://localhost:8080/"
    },
    "executionInfo": {
     "elapsed": 17,
     "status": "ok",
     "timestamp": 1726754927091,
     "user": {
      "displayName": "Yaël -",
      "userId": "00491070160584580396"
     },
     "user_tz": -120
    },
    "id": "YHgd8JYPo60l",
    "outputId": "1a4d0a82-1d81-47ce-bf9f-ff0f39839326"
   },
   "outputs": [
    {
     "name": "stdout",
     "output_type": "stream",
     "text": [
      "torch.Size([1000, 2])\n",
      "torch.Size([1000, 1])\n",
      "tensor([-5.7595e-03, -2.8174e-05])\n",
      "tensor([0.5917, 0.5925])\n"
     ]
    }
   ],
   "source": [
    "print(X.size())\n",
    "print(y.size())\n",
    "print(X.mean(dim=0))\n",
    "print(X.std(dim=0))"
   ]
  },
  {
   "cell_type": "markdown",
   "metadata": {
    "id": "Unp-3kjjo60n"
   },
   "source": [
    "## Normalization"
   ]
  },
  {
   "cell_type": "code",
   "execution_count": 40,
   "metadata": {
    "colab": {
     "base_uri": "https://localhost:8080/"
    },
    "executionInfo": {
     "elapsed": 12,
     "status": "ok",
     "timestamp": 1726754927091,
     "user": {
      "displayName": "Yaël -",
      "userId": "00491070160584580396"
     },
     "user_tz": -120
    },
    "id": "6rIwFaauo60n",
    "outputId": "a98ae916-5af7-43ab-c6f1-ef1ecc47c2bb"
   },
   "outputs": [
    {
     "name": "stdout",
     "output_type": "stream",
     "text": [
      "tensor([-1.2398e-08,  1.9073e-09])\n",
      "tensor([1.0000, 1.0000])\n"
     ]
    }
   ],
   "source": [
    "X -= X.mean(dim=0)\n",
    "X /= X.std(dim=0)\n",
    "print(X.mean(dim=0))\n",
    "print(X.std(dim=0))"
   ]
  },
  {
   "cell_type": "markdown",
   "metadata": {
    "id": "Rc3VgVWOo60p"
   },
   "source": [
    "## Definition of the hyper-parameters"
   ]
  },
  {
   "cell_type": "code",
   "execution_count": 41,
   "metadata": {
    "executionInfo": {
     "elapsed": 257,
     "status": "ok",
     "timestamp": 1726754927341,
     "user": {
      "displayName": "Yaël -",
      "userId": "00491070160584580396"
     },
     "user_tz": -120
    },
    "id": "OrBQMqCJo60r"
   },
   "outputs": [],
   "source": [
    "n_in = X.shape[1]\n",
    "n_h1 = 20 #first layer is 20 units\n",
    "n_h2 = 10 #second layer is 10 units\n",
    "n_out = 1 #binary classifation\n",
    "\n",
    "nb_epoch = 10000\n",
    "alpha = 0.1"
   ]
  },
  {
   "cell_type": "markdown",
   "metadata": {
    "id": "CIzjntgZo60t"
   },
   "source": [
    "## Model 1 (writing the network equations)\n",
    "\n",
    "\n"
   ]
  },
  {
   "cell_type": "markdown",
   "metadata": {
    "id": "4pllj-HFth04"
   },
   "source": [
    "### Parameter initialization\n",
    "\n",
    "**Using torch.Tensors**.\n",
    "we define the variables and write the equations of the network ourself.\n",
    "However we will use ```torch.Tensors``` instead of ```numpy.Array```.\n",
    "\n",
    "***Why ?*** because torch tensors allow us to **automatically** get the gradient.  \n",
    "Simply using ```loss.backward()``` to launch the backpropagation from ```loss```.  \n",
    "Then, for all tensors we've created and for which we declared ```requires_grad=True```, we will get the gradient of ```loss```with respect to this variable in the field ```.grad```.\n",
    "\n",
    "Example: ```W1 = torch.Tensor(..., requires_grad=True)``` ... ```loss.backward``` will have the gradient $\\frac{d Loss}{d W1}$in ```W1.grad```.\n",
    "\n",
    "**Random initialization**. The weight $W_1, W_2, \\cdots$ matrices **should be initialized randomly with small values**; while the bias vectors $b_1, b_2, \\cdots$can be initialized to zero."
   ]
  },
  {
   "cell_type": "code",
   "execution_count": 42,
   "metadata": {
    "executionInfo": {
     "elapsed": 10,
     "status": "ok",
     "timestamp": 1726754927342,
     "user": {
      "displayName": "Yaël -",
      "userId": "00491070160584580396"
     },
     "user_tz": -120
    },
    "id": "fGEMW1P1tllj"
   },
   "outputs": [],
   "source": [
    "# --- We first initialize the variables of the network (W1, b1, ...)\n",
    "\n",
    "W1 = torch.rand(n_in, n_h1)/100\n",
    "W1.requires_grad = True\n",
    "b1 = torch.zeros(n_h1).T\n",
    "b1.requires_grad = True\n",
    "\n",
    "W2 = torch.rand(n_h1, n_h2)/100\n",
    "W2.requires_grad = True\n",
    "b2 = torch.zeros(n_h2).T\n",
    "b2.requires_grad = True\n",
    "\n",
    "W3 = torch.rand(n_h2, n_out)/100\n",
    "W3.requires_grad = True\n",
    "b3 = torch.zeros(n_out).T\n",
    "b3.requires_grad = True\n"
   ]
  },
  {
   "cell_type": "markdown",
   "metadata": {
    "id": "GU472VdktqoP"
   },
   "source": [
    "### Define the model\n",
    "\n",
    "We write a function to perform the forward pass (using pytorch operators, not numpy operators) taking X as input and returing hat_y as output."
   ]
  },
  {
   "cell_type": "code",
   "execution_count": 43,
   "metadata": {
    "executionInfo": {
     "elapsed": 9,
     "status": "ok",
     "timestamp": 1726754927342,
     "user": {
      "displayName": "Yaël -",
      "userId": "00491070160584580396"
     },
     "user_tz": -120
    },
    "id": "1BWc4OoZts_l"
   },
   "outputs": [],
   "source": [
    "def model(X):\n",
    "    A0 = X\n",
    "    Z1 = A0 @ W1 + b1\n",
    "    A1 = torch.relu(Z1)\n",
    "    Z2 = A1 @ W2 + b2\n",
    "    A2 = torch.relu(Z2)\n",
    "    Z3 = A2 @ W3 + b3\n",
    "    A3 = torch.sigmoid(Z3)\n",
    "    hat_y = A3\n",
    "    \n",
    "    return hat_y"
   ]
  },
  {
   "cell_type": "markdown",
   "metadata": {
    "id": "-t--05ydty4g"
   },
   "source": [
    "### Main training loop\n",
    "\n",
    "We iterate over epochs (we do not perform split into mini-batch here).\n",
    "For each iteration, we\n",
    "- a) perform the forward pass,\n",
    "- b) compute the loss/cost,\n",
    "- c) compute the backward pass to get the gradients of the cost w.r.t. the parameters W1, b1, ...\n",
    "- d) perform the update of the parameters W1, b1, ...\n",
    "\n",
    "***Important: pytorch restriction***  \n",
    "When we update the parameters (W1, b1, ...), we muist do that ``inplace`` (W1 -= ??? and not W1 = W1 - ???).  \n",
    "**Why?** Because otherwise pytorch will overide W1 by its value, and hence **it will eras its .grad file** used to backpropagate.\n"
   ]
  },
  {
   "cell_type": "code",
   "execution_count": 44,
   "metadata": {
    "colab": {
     "base_uri": "https://localhost:8080/"
    },
    "executionInfo": {
     "elapsed": 10656,
     "status": "ok",
     "timestamp": 1726754937989,
     "user": {
      "displayName": "Yaël -",
      "userId": "00491070160584580396"
     },
     "user_tz": -120
    },
    "id": "HB65rqW4o60u",
    "outputId": "7d3e2ecb-2a61-4268-c56b-6a918321f24e"
   },
   "outputs": [
    {
     "name": "stdout",
     "output_type": "stream",
     "text": [
      "epoch 0, loss 0.6931495070457458\n",
      "epoch 500, loss 0.6931470632553101\n",
      "epoch 1000, loss 0.6931468844413757\n",
      "epoch 1500, loss 0.6931465864181519\n",
      "epoch 2000, loss 0.6931463479995728\n",
      "epoch 2500, loss 0.6931459903717041\n",
      "epoch 3000, loss 0.6931455135345459\n",
      "epoch 3500, loss 0.6931447982788086\n",
      "epoch 4000, loss 0.6931435465812683\n",
      "epoch 4500, loss 0.693141520023346\n",
      "epoch 5000, loss 0.6931378245353699\n",
      "epoch 5500, loss 0.693130373954773\n",
      "epoch 6000, loss 0.6931127905845642\n",
      "epoch 6500, loss 0.6930590867996216\n",
      "epoch 7000, loss 0.6928008794784546\n",
      "epoch 7500, loss 0.6889599561691284\n",
      "epoch 8000, loss 0.49967655539512634\n",
      "epoch 8500, loss 0.24793735146522522\n",
      "epoch 9000, loss 0.23524126410484314\n",
      "epoch 9500, loss 0.23217131197452545\n"
     ]
    }
   ],
   "source": [
    "loss_1 = []\n",
    "for num_epoch in range(0, nb_epoch):\n",
    "\n",
    "    # --- a) Forward pass: X (n_in, m), hat_y (n_out, m)\n",
    "    hat_y = model(X)\n",
    "\n",
    "    # -- We clip hat_y in order to avoid log(0) in the loss\n",
    "    eps = 1e-10\n",
    "    hat_y = torch.clamp(hat_y, eps, 1-eps)\n",
    "\n",
    "    # --- b) Computing the loss/cost\n",
    "    loss = - ( y*torch.log(hat_y) + (1-y)*torch.log(1-hat_y)) ##binary cross entropy\n",
    "    cost = torch.sum(loss)/X.size()[0]\n",
    "\n",
    "\n",
    "    if num_epoch % 500 == 0:\n",
    "        print('epoch {}, loss {}'.format(num_epoch, cost))\n",
    "\n",
    "    loss_1.append(cost.item())\n",
    "    # --- c) Backward pass\n",
    "    cost.backward()\n",
    "\n",
    "    # --- \"with torch.no_grad()\" temporarily set all the requires_grad flag to false\n",
    "    with torch.no_grad():\n",
    "        # --- d) perform the update of the parameters W1, b1, ...\n",
    "        # --- the gradients dLoss/dW1 is stored in W1.grad, dLoss/db1 is stored in b1.grad, ...\n",
    "        W1 -= W1.grad * alpha\n",
    "        b1 -= b1.grad * alpha\n",
    "        W2 -= W2.grad * alpha\n",
    "        b2 -= b2.grad * alpha\n",
    "        W3 -= W3.grad * alpha\n",
    "        b3 -= b3.grad * alpha\n",
    "\n",
    "\n",
    "    # --- We need to set to zero all gradients (otherwise they are cumulated)\n",
    "    W1.grad.zero_()\n",
    "    b1.grad.zero_()\n",
    "    W2.grad.zero_()\n",
    "    b2.grad.zero_()\n",
    "    W3.grad.zero_()\n",
    "    b3.grad.zero_()"
   ]
  },
  {
   "cell_type": "code",
   "execution_count": 45,
   "metadata": {},
   "outputs": [
    {
     "data": {
      "text/plain": [
       "[<matplotlib.lines.Line2D at 0x20df4dbbe90>]"
      ]
     },
     "execution_count": 45,
     "metadata": {},
     "output_type": "execute_result"
    },
    {
     "data": {
      "image/png": "[encoded data removed]",
      "text/plain": [
       "<Figure size 640x480 with 1 Axes>"
      ]
     },
     "metadata": {},
     "output_type": "display_data"
    }
   ],
   "source": [
    "plt.plot(loss_1)"
   ]
  },
  {
   "cell_type": "markdown",
   "metadata": {
    "id": "lxgA4DXVo60w"
   },
   "source": [
    "## Model 2 (using nn.sequential)\n",
    "\n",
    "Here, we use the package ```torch.nn``` which comes with a predefined set of layers. The syntax is close to the one of ```keras```(```Sequential```), but differs in the fact that layers are splitted into the matrix multiplication followed by a non-linear activations (```keras```merge both using the ```Dense```layers).\n",
    "\n",
    "The model created will have all its parameters accessible as a dictionary and can be accessed using ```model.parameters()```. It is therefore a convenient way to write simple sequential networks."
   ]
  },
  {
   "cell_type": "code",
   "execution_count": 46,
   "metadata": {
    "executionInfo": {
     "elapsed": 256,
     "status": "ok",
     "timestamp": 1726755335786,
     "user": {
      "displayName": "Yaël -",
      "userId": "00491070160584580396"
     },
     "user_tz": -120
    },
    "id": "elGQpQzjo60x"
   },
   "outputs": [],
   "source": [
    "my_model =  torch.nn.Sequential(\n",
    "    torch.nn.Linear(n_in, n_h1),\n",
    "    torch.nn.ReLU(),\n",
    "    torch.nn.Linear(n_h1,n_h2),\n",
    "    torch.nn.ReLU(),\n",
    "    torch.nn.Linear(n_h2, n_out),\n",
    "    torch.nn.Sigmoid(),\n",
    "    )"
   ]
  },
  {
   "cell_type": "markdown",
   "metadata": {
    "id": "ts4aVeIPo601"
   },
   "source": [
    "### Criterion and Optimization\n",
    "\n",
    "The code of Model 1 is self-contained, i.e. it already contains all necessary instruction to perform forward, loss, backward and parameter updates.\n",
    "\n",
    "When using ```nn.sequential``` (model 2) or a class definition of the network (model 3), we still need to define\n",
    "- what we will minimize (the loss to be minimized, i.e. Binary-Cross-Entropy). We can of course write the equation of it by hand but pytorch comes with a very large number of pre-build loss functions (within ```torch.nn```)\n",
    "- how we will minimize the loss, i.e. what parameter update algorithms we will use (SGD, momentum). We can of course write the equation of it by hand but pytorch comes with a very large number of pre-build loss functions (within ```torch.nn```)"
   ]
  },
  {
   "cell_type": "code",
   "execution_count": 47,
   "metadata": {
    "executionInfo": {
     "elapsed": 247,
     "status": "ok",
     "timestamp": 1726755354757,
     "user": {
      "displayName": "Yaël -",
      "userId": "00491070160584580396"
     },
     "user_tz": -120
    },
    "id": "xs63V-Wgo602"
   },
   "outputs": [],
   "source": [
    "criterion = torch.nn.BCELoss()\n",
    "optimizer = torch.optim.SGD(my_model.parameters(),lr=0.1)"
   ]
  },
  {
   "cell_type": "markdown",
   "metadata": {
    "id": "89ysZn6rw17u"
   },
   "source": [
    "### Main training loop\n",
    "\n",
    "Having defined the network, the citerion to be minimized and the optimizer, we then perform a loop over epochs (iterations); at each step we\n",
    "- compute the forward pass by passing the data to the model: ```haty = model(x)```\n",
    "- compute the the loss (the criterion)\n",
    "- putting at zero the gradients of all the parameters of the network (this is important since, by default, pytorch accumulate the gradients over time)\n",
    "- computing the backpropagation (using as before ```.backward()```)\n",
    "- performing one step of optimization (using ```.step()```)"
   ]
  },
  {
   "cell_type": "code",
   "execution_count": 48,
   "metadata": {
    "colab": {
     "base_uri": "https://localhost:8080/",
     "height": 787
    },
    "executionInfo": {
     "elapsed": 10762,
     "status": "ok",
     "timestamp": 1726755367354,
     "user": {
      "displayName": "Yaël -",
      "userId": "00491070160584580396"
     },
     "user_tz": -120
    },
    "id": "JROT567kw17u",
    "outputId": "66a2ddf9-9ded-4119-b483-d283ab5fccc6"
   },
   "outputs": [
    {
     "name": "stdout",
     "output_type": "stream",
     "text": [
      "epoch 0, loss 0.6918634176254272\n",
      "epoch 500, loss 0.27801188826560974\n",
      "epoch 1000, loss 0.23877659440040588\n",
      "epoch 1500, loss 0.23437252640724182\n",
      "epoch 2000, loss 0.23273122310638428\n",
      "epoch 2500, loss 0.2316988855600357\n",
      "epoch 3000, loss 0.23076076805591583\n",
      "epoch 3500, loss 0.23018158972263336\n",
      "epoch 4000, loss 0.22976213693618774\n",
      "epoch 4500, loss 0.2293941229581833\n",
      "epoch 5000, loss 0.22897687554359436\n",
      "epoch 5500, loss 0.22862286865711212\n",
      "epoch 6000, loss 0.22828391194343567\n",
      "epoch 6500, loss 0.22795839607715607\n",
      "epoch 7000, loss 0.2276410162448883\n",
      "epoch 7500, loss 0.22737637162208557\n",
      "epoch 8000, loss 0.2271452099084854\n",
      "epoch 8500, loss 0.22675709426403046\n",
      "epoch 9000, loss 0.22646215558052063\n",
      "epoch 9500, loss 0.22620034217834473\n"
     ]
    },
    {
     "data": {
      "text/plain": [
       "[<matplotlib.lines.Line2D at 0x20d97829f50>]"
      ]
     },
     "execution_count": 48,
     "metadata": {},
     "output_type": "execute_result"
    },
    {
     "data": {
      "image/png": "[encoded data removed]",
      "text/plain": [
       "<Figure size 640x480 with 1 Axes>"
      ]
     },
     "metadata": {},
     "output_type": "display_data"
    }
   ],
   "source": [
    "loss_2 = []\n",
    "for num_epoch in range(nb_epoch):\n",
    "\n",
    "    hat_y = my_model(X) # Forward pass: Compute predicted y by passing  x to the model\n",
    "    loss = criterion(hat_y,y) # Compute loss\n",
    "\n",
    "    # re-init the gradients (otherwise they are cumulated)\n",
    "    optimizer.zero_grad()\n",
    "\n",
    "    # perform back-propagation (which will update the gradients)\n",
    "    loss.backward()\n",
    "\n",
    "    # update the weights\n",
    "    optimizer.step()\n",
    "\n",
    "    loss_2.append(loss.item())\n",
    "\n",
    "    if num_epoch % 500 == 0:\n",
    "        print('epoch {}, loss {}'.format(num_epoch, loss.item()))\n",
    "\n",
    "# ----------------\n",
    "plt.plot(loss_2)"
   ]
  },
  {
   "cell_type": "markdown",
   "metadata": {
    "id": "4twpnbEAo60z"
   },
   "source": [
    "## Model 3 (using a class definition)\n",
    "\n",
    "Here, you will write the network using the recommended pytroch way; i.e. by defining a class.\n",
    "This class inherit from the main class ```torch.nn.Module```.\n",
    "You only need to write the ```__init__``` method and the ```forward``` method.\n",
    "\n",
    "In object programming, the ```__init__``` method defines the attributes of your class. Since the attributes of your  network are the parameters to be trained (weights and biases), you should declare in the ```__init``` all the layers that involve parameters to be trained (mostly the ```Linear```layers which perform the matrix multiplication).\n",
    "\n",
    "The ```forward``` method contains the code of the forward pass itself. It can of course call attributes defined in the ```__init___``` method. It is the method used when calling ```model(x)```.\n",
    "\n",
    "As before, the model created will have all its parameters accessible as a dictionary and can be accessed using ```model.parameters()```.\n",
    "\n",
    "Classes are convenient way to write more complex network than what you can do with ```nn.sequential```. Note that you can actually include a ```nn.sequential``` in your class."
   ]
  },
  {
   "cell_type": "code",
   "execution_count": 49,
   "metadata": {
    "executionInfo": {
     "elapsed": 5,
     "status": "ok",
     "timestamp": 1726756539492,
     "user": {
      "displayName": "Yaël -",
      "userId": "00491070160584580396"
     },
     "user_tz": -120
    },
    "id": "ZNsNkq9Do60z"
   },
   "outputs": [],
   "source": [
    "class Net(torch.nn.Module):\n",
    "    def __init__(self, n_in, n_h1, n_h2, n_out):\n",
    "        super(Net, self).__init__()\n",
    "\n",
    "\n",
    "        self.fc1 = nn.Linear(n_in, n_h1) # hidden layer 1\n",
    "        self.fc2 = nn.Linear(n_h1, n_h2) # hidden layer 2\n",
    "        self.fc3 = nn.Linear(n_h2, n_out)  # output layer\n",
    "\n",
    "\n",
    "    def forward(self, X):\n",
    "\n",
    "\n",
    "        A0 = X\n",
    "        A1 = torch.relu(self.fc1(A0))   # activation function for hidden layer 1\n",
    "        A2 = torch.relu(self.fc2(A1))   # activation function for hidden layer 2\n",
    "        A3 = torch.sigmoid(self.fc3(A2))   # activation function for output layer\n",
    "\n",
    "\n",
    "        return A3\n",
    "\n",
    "\n",
    "my_model = Net(n_in, n_h1, n_h2, n_out)"
   ]
  },
  {
   "cell_type": "markdown",
   "metadata": {
    "id": "VfOoKPMtwfLI"
   },
   "source": [
    "### Criterion and Optimization"
   ]
  },
  {
   "cell_type": "code",
   "execution_count": 50,
   "metadata": {
    "executionInfo": {
     "elapsed": 3,
     "status": "ok",
     "timestamp": 1726756556676,
     "user": {
      "displayName": "Yaël -",
      "userId": "00491070160584580396"
     },
     "user_tz": -120
    },
    "id": "e-DC96kOwfLJ"
   },
   "outputs": [],
   "source": [
    "criterion = torch.nn.BCELoss()\n",
    "optimizer = torch.optim.SGD(my_model.parameters(),lr=0.1)"
   ]
  },
  {
   "cell_type": "markdown",
   "metadata": {
    "id": "XamuBM_ho604"
   },
   "source": [
    "### Main training loop (same as for model 2)\n"
   ]
  },
  {
   "cell_type": "code",
   "execution_count": 51,
   "metadata": {
    "colab": {
     "base_uri": "https://localhost:8080/",
     "height": 787
    },
    "executionInfo": {
     "elapsed": 10295,
     "status": "ok",
     "timestamp": 1726756568678,
     "user": {
      "displayName": "Yaël -",
      "userId": "00491070160584580396"
     },
     "user_tz": -120
    },
    "id": "rKfrD8V3o605",
    "outputId": "3404270f-491e-4bb3-e7cf-7dc8ed261997"
   },
   "outputs": [
    {
     "name": "stdout",
     "output_type": "stream",
     "text": [
      "epoch 0, loss 0.686518669128418\n",
      "epoch 500, loss 0.23755806684494019\n",
      "epoch 1000, loss 0.22773383557796478\n",
      "epoch 1500, loss 0.22671185433864594\n",
      "epoch 2000, loss 0.2264540046453476\n",
      "epoch 2500, loss 0.22610895335674286\n",
      "epoch 3000, loss 0.22597470879554749\n",
      "epoch 3500, loss 0.2258669137954712\n",
      "epoch 4000, loss 0.22580066323280334\n",
      "epoch 4500, loss 0.22573986649513245\n",
      "epoch 5000, loss 0.22568300366401672\n",
      "epoch 5500, loss 0.22563152015209198\n",
      "epoch 6000, loss 0.22558456659317017\n",
      "epoch 6500, loss 0.22554203867912292\n",
      "epoch 7000, loss 0.22549395263195038\n",
      "epoch 7500, loss 0.22545373439788818\n",
      "epoch 8000, loss 0.22541484236717224\n",
      "epoch 8500, loss 0.2253778576850891\n",
      "epoch 9000, loss 0.22534234821796417\n",
      "epoch 9500, loss 0.22530627250671387\n"
     ]
    },
    {
     "data": {
      "text/plain": [
       "[<matplotlib.lines.Line2D at 0x20d97f4d090>]"
      ]
     },
     "execution_count": 51,
     "metadata": {},
     "output_type": "execute_result"
    },
    {
     "data": {
      "image/png": "[encoded data removed]",
      "text/plain": [
       "<Figure size 640x480 with 1 Axes>"
      ]
     },
     "metadata": {},
     "output_type": "display_data"
    }
   ],
   "source": [
    "loss_3 = []\n",
    "for num_epoch in range(nb_epoch):\n",
    "\n",
    "\n",
    "    hat_y = my_model(X) # Forward pass: Compute predicted y by passing  x to the model\n",
    "    loss = criterion(hat_y,y) # Compute loss\n",
    "\n",
    "    # Zero gradients, perform a backward pass, and update the weights.\n",
    "\n",
    "    # re-init the gradients (otherwise they are cumulated)\n",
    "    optimizer.zero_grad()\n",
    "\n",
    "    # perform back-propagation\n",
    "    loss.backward()\n",
    "\n",
    "    # update the weights\n",
    "    optimizer.step()\n",
    "    \n",
    "\n",
    "    loss_3.append(loss.item())\n",
    "\n",
    "    if num_epoch % 500 == 0:\n",
    "        print('epoch {}, loss {}'.format(num_epoch, loss.item()))\n",
    "\n",
    "# ----------------\n",
    "plt.plot(loss_3)"
   ]
  },
  {
   "cell_type": "markdown",
   "metadata": {},
   "source": [
    "# Comparison of the Loss functions graphs "
   ]
  },
  {
   "cell_type": "code",
   "execution_count": 52,
   "metadata": {},
   "outputs": [
    {
     "data": {
      "image/png": "[encoded data removed]",
      "text/plain": [
       "<Figure size 1500x500 with 3 Axes>"
      ]
     },
     "metadata": {},
     "output_type": "display_data"
    }
   ],
   "source": [
    "# Create subplots\n",
    "fig, axes = plt.subplots(1, 3, figsize=(15, 5))  # 1 row, 3 columns\n",
    "\n",
    "# Plot for loss1\n",
    "axes[0].plot(loss_1)\n",
    "axes[0].set_title('Loss 1 - Handcoded ')\n",
    "axes[0].set_xlabel('Epoch')\n",
    "axes[0].set_ylabel('Loss')\n",
    "\n",
    "# Plot for loss2\n",
    "axes[1].plot(loss_2)\n",
    "axes[1].set_title('Loss 2 - Using NN sequential ')\n",
    "axes[1].set_xlabel('Epoch')\n",
    "\n",
    "# Plot for loss3\n",
    "axes[2].plot(loss_3)\n",
    "axes[2].set_title('Loss 3 - using a custom class')\n",
    "axes[2].set_xlabel('Epoch')\n",
    "\n",
    "# Adjust layout\n",
    "plt.tight_layout()\n",
    "\n",
    "# Show plot\n",
    "plt.show()"
   ]
  }
 ],
 "metadata": {
  "colab": {
   "provenance": [
    {
     "file_id": "1NyxJ60WuIfQDg8TXGCOoFddmYD2b6uDQ",
     "timestamp": 1726747464806
    }
   ]
  },
  "kernelspec": {
   "display_name": "test",
   "language": "python",
   "name": "python3"
  },
  "language_info": {
   "codemirror_mode": {
    "name": "ipython",
    "version": 3
   },
   "file_extension": ".py",
   "mimetype": "text/x-python",
   "name": "python",
   "nbconvert_exporter": "python",
   "pygments_lexer": "ipython3",
   "version": "3.11.10"
  },
  "toc": {
   "base_numbering": 1,
   "nav_menu": {},
   "number_sections": true,
   "sideBar": true,
   "skip_h1_title": false,
   "title_cell": "Table of Contents",
   "title_sidebar": "Contents",
   "toc_cell": false,
   "toc_position": {},
   "toc_section_display": true,
   "toc_window_display": true
  }
 },
 "nbformat": 4,
 "nbformat_minor": 0
}
