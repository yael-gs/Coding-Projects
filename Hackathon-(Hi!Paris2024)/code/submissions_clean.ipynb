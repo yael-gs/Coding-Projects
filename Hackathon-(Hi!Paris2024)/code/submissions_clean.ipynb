{
 "cells": [
  {
   "cell_type": "code",
   "execution_count": null,
   "metadata": {},
   "outputs": [],
   "source": [
    "import pickle\n",
    "import pandas as pd\n",
    "import numpy as np\n",
    "from pipe import *\n",
    "from pathlib import Path\n",
    "from sklearn.pipeline import Pipeline"
   ]
  },
  {
   "cell_type": "code",
   "execution_count": null,
   "metadata": {},
   "outputs": [],
   "source": [
    "path_src_dataset = \"./data/src/X_test_Hi5.csv\"\n",
    "\n",
    "path_folder_config = \"./data/processed/pipelines\"\n",
    "pipeline_name = \"1st_pipeline_12h26\"\n",
    "\n",
    "path_submission = \"./data/submissions\"\n",
    "\n",
    "target = \"piezo_groundwater_level_category\""
   ]
  },
  {
   "cell_type": "code",
   "execution_count": null,
   "metadata": {},
   "outputs": [],
   "source": [
    "columns_to_keep = col_yass + cols_yael_input + cols_yael_need + col_flo + \\\n",
    "    cols_lucien_need + cols_lucien_input + cols_mat  + pizo_cols"
   ]
  },
  {
   "cell_type": "code",
   "execution_count": null,
   "metadata": {},
   "outputs": [],
   "source": [
    "df_test  = pd.read_csv(path_src_dataset, usecols=columns_to_keep)"
   ]
  },
  {
   "cell_type": "markdown",
   "metadata": {},
   "source": [
    "#### Load pipeline"
   ]
  },
  {
   "cell_type": "code",
   "execution_count": null,
   "metadata": {},
   "outputs": [],
   "source": [
    "pipeline_name = \"pipeline_processing_5\"\n",
    "\n",
    "with open(path_folder_config / Path(pipeline_name + \".pkl\"), 'rb') as file:\n",
    "    pipeline: Pipeline = pickle.load(file)\n"
   ]
  },
  {
   "cell_type": "code",
   "execution_count": null,
   "metadata": {},
   "outputs": [],
   "source": [
    "processed_test = pipeline.transform(df_test)"
   ]
  },
  {
   "cell_type": "markdown",
   "metadata": {},
   "source": [
    "### Load best model "
   ]
  },
  {
   "cell_type": "code",
   "execution_count": null,
   "metadata": {},
   "outputs": [],
   "source": [
    "model_names = 'voting_clf'\n",
    "\n",
    "with open(path_folder_config / Path(model_names + \".pkl\"), 'rb') as file:\n",
    "    model = pickle.load(file)\n",
    "    "
   ]
  },
  {
   "cell_type": "code",
   "execution_count": null,
   "metadata": {},
   "outputs": [],
   "source": [
    "df_test_pred = model.predict(processed_test)"
   ]
  },
  {
   "cell_type": "code",
   "execution_count": null,
   "metadata": {},
   "outputs": [],
   "source": [
    "df_test_pred = pd.concat(\n",
    "    [df_test[\"row_index\"], pd.DataFrame(df_test_pred, columns=[target])], axis=1)\n",
    "\n",
    "mapping = {0: 'Very Low', 1: 'Low', 2: 'Average', 3: 'High', 4: 'Very High'}\n",
    "df_test_pred[target] = df_test_pred[target].map(mapping)"
   ]
  },
  {
   "cell_type": "code",
   "execution_count": null,
   "metadata": {},
   "outputs": [],
   "source": [
    "df_test_pred.shape"
   ]
  }
 ],
 "metadata": {
  "kernelspec": {
   "display_name": "Python 3",
   "language": "python",
   "name": "python3"
  },
  "language_info": {
   "codemirror_mode": {
    "name": "ipython",
    "version": 3
   },
   "file_extension": ".py",
   "mimetype": "text/x-python",
   "name": "python",
   "nbconvert_exporter": "python",
   "pygments_lexer": "ipython3",
   "version": "3.10.8"
  }
 },
 "nbformat": 4,
 "nbformat_minor": 2
}
