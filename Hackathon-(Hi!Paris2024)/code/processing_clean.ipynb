{
 "cells": [
  {
   "cell_type": "code",
   "execution_count": 19,
   "metadata": {},
   "outputs": [],
   "source": [
    "import pandas as pd\n",
    "from pipe import *\n",
    "from pathlib import Path\n",
    "from sklearn.model_selection import train_test_split\n",
    "from sklearn.metrics import f1_score\n",
    "from sklearn.ensemble import RandomForestClassifier\n",
    "import pickle"
   ]
  },
  {
   "cell_type": "markdown",
   "metadata": {},
   "source": [
    "### Load paths"
   ]
  },
  {
   "cell_type": "code",
   "execution_count": 20,
   "metadata": {},
   "outputs": [],
   "source": [
    "path_src_dataset = Path(\"./data/src/X_train_Hi5.csv\")\n",
    "# Out folders\n",
    "out_folder_dataset = Path(\"./data/cleaned\")\n",
    "# Create the folder if it doesn't exist\n",
    "out_folder_dataset.mkdir(parents=True, exist_ok=True)\n",
    "out_folder_config = Path(\"./data/processed/pipelines\")\n",
    "out_folder_config.mkdir(parents=True, exist_ok=True)\n",
    "\n",
    "# Load the CSV file with only the relevant columns\n",
    "# ,nrows=10e4) #  SI on veut charger moins de lignes : ajouter --> ,nrows=10e4)\n"
   ]
  },
  {
   "cell_type": "code",
   "execution_count": 21,
   "metadata": {},
   "outputs": [],
   "source": [
    "columns_to_keep = col_yass + cols_yael_input + cols_yael_need + col_flo + \\\n",
    "    cols_lucien_need + cols_lucien_input + cols_mat + [target] + pizo_cols"
   ]
  },
  {
   "cell_type": "markdown",
   "metadata": {},
   "source": [
    "### Loading data"
   ]
  },
  {
   "cell_type": "code",
   "execution_count": 22,
   "metadata": {},
   "outputs": [
    {
     "name": "stderr",
     "output_type": "stream",
     "text": [
      "C:\\Users\\AHMED-YASSINE\\AppData\\Local\\Temp\\ipykernel_2656\\3203882993.py:1: DtypeWarning: Columns (110,111,117,118,124,125) have mixed types. Specify dtype option on import or set low_memory=False.\n",
      "  df = pd.read_csv(path_src_dataset, usecols=columns_to_keep)\n"
     ]
    }
   ],
   "source": [
    "df = pd.read_csv(path_src_dataset, usecols=columns_to_keep)\n",
    "df = df.drop_duplicates()\n",
    "\n",
    "# Mapping du target\n",
    "mapping = {'Very Low': 0, 'Low': 1, 'Average': 2, 'High': 3, 'Very High': 4}\n",
    "df[target] = df[target].map(mapping)"
   ]
  },
  {
   "cell_type": "markdown",
   "metadata": {},
   "source": [
    "## FUNCTIONS"
   ]
  },
  {
   "cell_type": "code",
   "execution_count": 23,
   "metadata": {},
   "outputs": [],
   "source": [
    "def summer_train_test_split(df: pd.DataFrame, perc_val: float):\n",
    "    \"\"\"\n",
    "    Split the dataset into a training and a validation set.\n",
    "    The validation set is composed of the summer months.\n",
    "    The training set is composed of the other months.\n",
    "    The split is done randomly.\n",
    "    \n",
    "    Parameters\n",
    "    ----------\n",
    "    df : pd.DataFrame\n",
    "        The dataset to split.\n",
    "    perc_val : float\n",
    "        The percentage of the dataset to put in the validation set.\n",
    "        \n",
    "    Returns\n",
    "    -------\n",
    "    X_train : pd.DataFrame\n",
    "        The training set features.\n",
    "    X_val : pd.DataFrame\n",
    "        The validation set features.\n",
    "    y_train : pd.Series\n",
    "        The training set target.\n",
    "    y_val : pd.Series\n",
    "        The validation set target.\n",
    "    \"\"\"\n",
    "    df_copy = df.copy()\n",
    "\n",
    "    df_copy[\"meteo_date\"] = pd.to_datetime(\n",
    "        df_copy[\"meteo_date\"], format=\"%Y-%m-%d\")\n",
    "\n",
    "    summer_df = df_copy[(df_copy[\"meteo_date\"].dt.month >= 6)\n",
    "                        & (df_copy[\"meteo_date\"].dt.month <= 9)]\n",
    "\n",
    "    _, summer_val = train_test_split(\n",
    "        summer_df, random_state=42, test_size=perc_val, shuffle=True)\n",
    "\n",
    "    Xy_train = df.drop(index=summer_val.index).sample(frac=1, random_state=42)\n",
    "    Xy_val: pd.DataFrame = df.iloc[summer_val.index].sample(\n",
    "        frac=1, random_state=42)\n",
    "\n",
    "    X_train = Xy_train.drop(columns=[target])\n",
    "    y_train = Xy_train[target]\n",
    "\n",
    "    X_val = Xy_val.drop(columns=[target])\n",
    "    y_val = Xy_val[target]\n",
    "\n",
    "    del df_copy\n",
    "\n",
    "    return X_train, X_val, y_train, y_val"
   ]
  },
  {
   "cell_type": "markdown",
   "metadata": {},
   "source": [
    "### Fitting to pipeline"
   ]
  },
  {
   "cell_type": "code",
   "execution_count": 24,
   "metadata": {},
   "outputs": [],
   "source": [
    "X_train, X_val, y_train, y_val = summer_train_test_split(df, 0.5)\n",
    "# X_train, X_val, y_train, y_val = train_test_split(df.drop(columns=[target]), df[target], test_size=0.2, random_state=42)"
   ]
  },
  {
   "cell_type": "code",
   "execution_count": 25,
   "metadata": {},
   "outputs": [],
   "source": [
    "continuous_variables = [\n",
    "    \"piezo_station_investigation_depth\",\n",
    "    \"piezo_station_altitude\",\n",
    "    \"piezo_station_longitude\",\n",
    "    \"piezo_station_latitude\",\n",
    "    \"meteo_date\",\n",
    "    \"meteo_rain_height\",\n",
    "    \"meteo_time_tn\",\n",
    "    \"meteo_time_tx\",\n",
    "    \"meteo_temperature_avg\",\n",
    "    \"meteo__pressure_saturation_avg\",\n",
    "    \"hydro_observation_result_elab\",\n",
    "    \"prelev_volume_0\",\n",
    "    \"prelev_volume_1\",\n",
    "    \"prelev_volume_2\",\n",
    "    \"prelev_other_volume_sum\",\n",
    "    \"insee_%_agri\",\n",
    "    \"insee_pop_commune\",\n",
    "    \"insee_med_living_level\",\n",
    "    \"insee_%_ind\",\n",
    "    \"insee_%_const\",\n",
    "    \"hydro_observation_log\"\n",
    "]"
   ]
  },
  {
   "cell_type": "code",
   "execution_count": 26,
   "metadata": {},
   "outputs": [],
   "source": [
    "global_pipeline = Pipeline([\n",
    "    ('processing', processing_pipeline),\n",
    "    ('StandardScaler', PartialStandardScaler(columns=continuous_variables))\n",
    "])"
   ]
  },
  {
   "cell_type": "code",
   "execution_count": 27,
   "metadata": {},
   "outputs": [
    {
     "name": "stdout",
     "output_type": "stream",
     "text": [
      "Pipeline ongoing...\n",
      ">> (Info) Droped columns : []\n"
     ]
    },
    {
     "name": "stderr",
     "output_type": "stream",
     "text": [
      "c:\\Users\\AHMED-YASSINE\\Desktop\\Hickathon_43\\transformers.py:859: FutureWarning: DataFrame.applymap has been deprecated. Use DataFrame.map instead.\n",
      "  self.mean = X[self.columns].applymap(self.convert_minute).mean()\n",
      "c:\\Users\\AHMED-YASSINE\\Desktop\\Hickathon_43\\transformers.py:865: FutureWarning: DataFrame.applymap has been deprecated. Use DataFrame.map instead.\n",
      "  X[self.columns] = X[self.columns].applymap(self.convert_minute)\n"
     ]
    },
    {
     "name": "stdout",
     "output_type": "stream",
     "text": [
      ">> (Info - TimeTnx) fill na avec mean = 474.9644888624465 & 809.8013083514762\n",
      ">> (INFO) missing values in columns ['prelev_volume_0', 'prelev_volume_1', 'prelev_volume_2', 'prelev_other_volume_sum'] are filled by the minimum of the column by commune\n",
      ">> (Info - Prelev) 'prelev_usage_label_0' has been one-hot-encoded in 4 features\n",
      ">> (Info - Prelev) 'prelev_volume_obtention_mode_label_0' has been one-hot-encoded in 4 features\n",
      ">> (Info - Prelev) 'prelev_usage_label_1' has been one-hot-encoded in 4 features\n",
      ">> (Info - Prelev) 'prelev_volume_obtention_mode_label_1' has been one-hot-encoded in 4 features\n",
      ">> (Info - Prelev) 'prelev_usage_label_2' has been one-hot-encoded in 4 features\n",
      ">> (Info - Prelev) 'prelev_volume_obtention_mode_label_2' has been one-hot-encoded in 4 features\n",
      ">> (Info) Calculating medians and means for ['insee_%_agri', 'meteo_rain_height', 'insee_pop_commune', 'insee_med_living_level', 'insee_%_ind', 'insee_%_const']\n",
      ">> (Info) Rainfall means by department and month calculated.\n",
      ">> (Info) Medians and means successfully calculated.\n",
      ">> (Info) Filling missing values with calculated medians and means.\n",
      ">> (Info) Calculating means for numerical features and preparing for one-hot encoding.\n",
      ">> (Info) Fitting completed: Means, modes, and one-hot encoders prepared.\n",
      ">> (Info) Transforming data: Filling missing values and applying one-hot encoding.\n",
      ">> (Info) Missing values in piezo_station_investigation_depth filled with department means or global mean as fallback.\n",
      ">> (Info) One-hot encoding applied to piezo_obtention_mode with missing values filled.\n",
      ">> (Info) One-hot encoding applied to piezo_status with missing values filled.\n",
      ">> (Info) One-hot encoding applied to piezo_qualification with missing values filled.\n",
      ">> (Info) One-hot encoding applied to piezo_measure_nature_code with missing values filled.\n",
      ">> (Info) Data transformation completed.\n",
      ">> (INFO - DropCols) columns ['row_index', 'piezo_station_department_name', 'piezo_station_update_date', 'piezo_station_commune_code_insee', 'piezo_station_pe_label', 'piezo_station_bdlisa_codes', 'piezo_station_bss_code', 'piezo_station_bss_id', 'piezo_bss_code', 'piezo_measurement_date', 'piezo_producer_name', 'piezo_measure_nature_code', 'meteo_name', 'meteo_id', 'meteo_latitude', 'meteo_longitude', 'hydro_station_code', 'hydro_method_code', 'hydro_method_label', 'hydro_qualification_label', 'prelev_structure_code_0', 'prelev_structure_code_2', 'prelev_structure_code_0', 'prelev_commune_code_insee_0', 'piezo_station_department_code', 'meteo_DRR', 'meteo_temperature_min_ground', 'meteo_temperature_min_50cm', 'meteo_pressure_avg', 'meteo_pression_maxi', 'meteo_wind_speed_avg_2m', 'meteo_wind_max_2m', 'meteo_wind_direction_max_inst_2m', 'meteo_time_wind_max_2m', 'meteo_wetting_duration', 'meteo_sunshine_duration', 'meteo_radiation', 'meteo_radiation_direct', 'meteo_sunshine_%', 'meteo_radiation_IR', 'meteo_radiation_UV_max', 'meteo_cloudiness', 'meteo_cloudiness_height', 'meteo_if_snow', 'meteo_if_fog', 'meteo_if_thunderstorm', 'meteo_if_sleet', 'meteo_if_hail', 'meteo_if_dew', 'meteo_if_black_ice', 'meteo_if_snow_ground', 'meteo_if_frost', 'meteo_if_smoke', 'meteo_if_mist', 'meteo_if_lightning', 'meteo_evapotranspiration_Monteith', 'meteo_radiation_UV', 'meteo_snow_height', 'meteo_snow_thickness_max', 'meteo_snow_thickness_6h'] is/are droped.\n",
      ">> (INFO - PartialStandardScaler) columns ['piezo_station_investigation_depth', 'piezo_station_altitude', 'piezo_station_longitude', 'piezo_station_latitude', 'meteo_date', 'meteo_rain_height', 'meteo_time_tn', 'meteo_time_tx', 'meteo_temperature_avg', 'meteo__pressure_saturation_avg', 'hydro_observation_result_elab', 'prelev_volume_0', 'prelev_volume_1', 'prelev_volume_2', 'prelev_other_volume_sum', 'insee_%_agri', 'insee_pop_commune', 'insee_med_living_level', 'insee_%_ind', 'insee_%_const', 'hydro_observation_log'] have bean standardized\n"
     ]
    },
    {
     "name": "stderr",
     "output_type": "stream",
     "text": [
      "c:\\Users\\AHMED-YASSINE\\Desktop\\Hickathon_43\\transformers.py:865: FutureWarning: DataFrame.applymap has been deprecated. Use DataFrame.map instead.\n",
      "  X[self.columns] = X[self.columns].applymap(self.convert_minute)\n"
     ]
    },
    {
     "name": "stdout",
     "output_type": "stream",
     "text": [
      ">> (Info - TimeTnx) fill na avec mean = 474.9644888624465 & 809.8013083514762\n",
      ">> (Info - Prelev) 'prelev_usage_label_0' has been one-hot-encoded in 4 features\n",
      ">> (Info - Prelev) 'prelev_volume_obtention_mode_label_0' has been one-hot-encoded in 4 features\n",
      ">> (Info - Prelev) 'prelev_usage_label_1' has been one-hot-encoded in 4 features\n",
      ">> (Info - Prelev) 'prelev_volume_obtention_mode_label_1' has been one-hot-encoded in 4 features\n",
      ">> (Info - Prelev) 'prelev_usage_label_2' has been one-hot-encoded in 4 features\n",
      ">> (Info - Prelev) 'prelev_volume_obtention_mode_label_2' has been one-hot-encoded in 4 features\n",
      ">> (Info) Filling missing values with calculated medians and means.\n",
      ">> (Info) Transforming data: Filling missing values and applying one-hot encoding.\n",
      ">> (Info) Missing values in piezo_station_investigation_depth filled with department means or global mean as fallback.\n",
      ">> (Info) One-hot encoding applied to piezo_obtention_mode with missing values filled.\n",
      ">> (Info) One-hot encoding applied to piezo_status with missing values filled.\n",
      ">> (Info) One-hot encoding applied to piezo_qualification with missing values filled.\n",
      ">> (Info) One-hot encoding applied to piezo_measure_nature_code with missing values filled.\n",
      ">> (Info) Data transformation completed.\n",
      ">> (INFO - DropCols) columns ['row_index', 'piezo_station_department_name', 'piezo_station_update_date', 'piezo_station_commune_code_insee', 'piezo_station_pe_label', 'piezo_station_bdlisa_codes', 'piezo_station_bss_code', 'piezo_station_bss_id', 'piezo_bss_code', 'piezo_measurement_date', 'piezo_producer_name', 'piezo_measure_nature_code', 'meteo_name', 'meteo_id', 'meteo_latitude', 'meteo_longitude', 'hydro_station_code', 'hydro_method_code', 'hydro_method_label', 'hydro_qualification_label', 'prelev_structure_code_0', 'prelev_structure_code_2', 'prelev_structure_code_0', 'prelev_commune_code_insee_0', 'piezo_station_department_code', 'meteo_DRR', 'meteo_temperature_min_ground', 'meteo_temperature_min_50cm', 'meteo_pressure_avg', 'meteo_pression_maxi', 'meteo_wind_speed_avg_2m', 'meteo_wind_max_2m', 'meteo_wind_direction_max_inst_2m', 'meteo_time_wind_max_2m', 'meteo_wetting_duration', 'meteo_sunshine_duration', 'meteo_radiation', 'meteo_radiation_direct', 'meteo_sunshine_%', 'meteo_radiation_IR', 'meteo_radiation_UV_max', 'meteo_cloudiness', 'meteo_cloudiness_height', 'meteo_if_snow', 'meteo_if_fog', 'meteo_if_thunderstorm', 'meteo_if_sleet', 'meteo_if_hail', 'meteo_if_dew', 'meteo_if_black_ice', 'meteo_if_snow_ground', 'meteo_if_frost', 'meteo_if_smoke', 'meteo_if_mist', 'meteo_if_lightning', 'meteo_evapotranspiration_Monteith', 'meteo_radiation_UV', 'meteo_snow_height', 'meteo_snow_thickness_max', 'meteo_snow_thickness_6h'] is/are droped.\n",
      ">> (INFO - PartialStandardScaler) columns ['piezo_station_investigation_depth', 'piezo_station_altitude', 'piezo_station_longitude', 'piezo_station_latitude', 'meteo_date', 'meteo_rain_height', 'meteo_time_tn', 'meteo_time_tx', 'meteo_temperature_avg', 'meteo__pressure_saturation_avg', 'hydro_observation_result_elab', 'prelev_volume_0', 'prelev_volume_1', 'prelev_volume_2', 'prelev_other_volume_sum', 'insee_%_agri', 'insee_pop_commune', 'insee_med_living_level', 'insee_%_ind', 'insee_%_const', 'hydro_observation_log'] have bean standardized\n"
     ]
    }
   ],
   "source": [
    "print(\"Pipeline ongoing...\")\n",
    "processed_X_train = global_pipeline.fit_transform(X_train)\n",
    "processed_X_val = global_pipeline.transform(X_val)"
   ]
  },
  {
   "cell_type": "markdown",
   "metadata": {},
   "source": [
    "## Save Pipeline\n"
   ]
  },
  {
   "cell_type": "code",
   "execution_count": 28,
   "metadata": {},
   "outputs": [],
   "source": [
    "save = True\n",
    "if save:\n",
    "\n",
    "    pipeline_name = \"pipeline_processing_5\"\n",
    "\n",
    "    # Writing to sample.json\n",
    "    with open(out_folder_config / Path(pipeline_name + \".pkl\"), \"wb\") as file:\n",
    "        pickle.dump(global_pipeline, file)"
   ]
  },
  {
   "cell_type": "markdown",
   "metadata": {},
   "source": [
    "## Model entrainement"
   ]
  },
  {
   "cell_type": "code",
   "execution_count": null,
   "metadata": {},
   "outputs": [],
   "source": [
    "from sklearn.ensemble import VotingClassifier\n",
    "from xgboost import XGBClassifier\n",
    "import catboost as cb\n",
    "# Random Forest\n",
    "rf = RandomForestClassifier(n_estimators=150, random_state=42)\n",
    "\n",
    "# XGBoost\n",
    "xgb_params = {\n",
    "    \"n_estimators\": 200,\n",
    "    \"random_state\": 42,\n",
    "    \"learning_rate\": 0.09526293704140061,\n",
    "    \"device\": \"cuda\"\n",
    "}\n",
    "\n",
    "xgb = XGBClassifier(**xgb_params, categorical_feature=\"auto\")\n",
    "\n",
    "# CatBoost\n",
    "cat_boost_params = {\n",
    "    \"n_estimators\": 150,\n",
    "    \"random_state\": 42,\n",
    "    \"learning_rate\": 0.09911865781654298,\n",
    "    \"max_depth\": 5,\n",
    "    \"task_type\": \"GPU\"\n",
    "}\n",
    "\n",
    "cat = cb.CatBoostClassifier(**cat_boost_params)\n",
    "\n",
    "# Voting Classifier\n",
    "voting = VotingClassifier(\n",
    "    estimators=[('rf', rf), ('xgb', xgb), ('cat', cat)], voting='soft')\n",
    "\n",
    "voting.fit(processed_X_train, y_train)\n",
    "\n",
    "# Save the model\n",
    "with open(out_folder_config / \"voting_model.pkl\", \"wb\") as f:\n",
    "    pickle.dump(voting, f)"
   ]
  }
 ],
 "metadata": {
  "kernelspec": {
   "display_name": "Python 3",
   "language": "python",
   "name": "python3"
  },
  "language_info": {
   "codemirror_mode": {
    "name": "ipython",
    "version": 3
   },
   "file_extension": ".py",
   "mimetype": "text/x-python",
   "name": "python",
   "nbconvert_exporter": "python",
   "pygments_lexer": "ipython3",
   "version": "3.10.8"
  }
 },
 "nbformat": 4,
 "nbformat_minor": 2
}
